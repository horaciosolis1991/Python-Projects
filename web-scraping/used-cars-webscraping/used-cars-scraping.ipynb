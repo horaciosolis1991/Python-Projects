{
 "cells": [
  {
   "cell_type": "code",
   "execution_count": null,
   "id": "above-painting",
   "metadata": {},
   "outputs": [],
   "source": [
    "import requests\n",
    "from bs4 import BeautifulSoup\n",
    "import pandas as pd\n",
    "import time\n",
    "from datetime import date\n",
    "import time\n",
    "from bs4 import BeautifulSoup\n",
    "from selenium import webdriver\n",
    "from selenium.webdriver.chrome.options import Options"
   ]
  },
  {
   "cell_type": "code",
   "execution_count": null,
   "id": "sealed-nightlife",
   "metadata": {},
   "outputs": [],
   "source": [
    "data=pd.DataFrame(columns=['brand', 'model', 'year','price','miles','car_location','car_state'])\n",
    "base_url=\"https://www.cargurus.com/Cars/inventorylisting/viewDetailsFilterViewInventoryListing.action?sourceContext=carGurusHomePageModel&entitySelectingHelper.selectedEntity=m55&zip=83200\"\n",
    "options = Options()\n",
    "options.add_argument('--headless')\n",
    "options.add_argument('--disable-gpu')\n",
    "driver = webdriver.Chrome(chrome_options=options)\n",
    "driver.get(base_url)\n",
    "page = driver.page_source\n",
    "soup = BeautifulSoup(page, 'html.parser')\n",
    "page_number=int(soup.find('span',{'class':'oKvYB4'}).get_text().split(' ')[4])\n",
    "for i in range(1,30):\n",
    "    options = Options()\n",
    "    options.add_argument('--headless')\n",
    "    options.add_argument('--disable-gpu')\n",
    "    driver = webdriver.Chrome(chrome_options=options)\n",
    "    if i==1:\n",
    "        driver.get(base_url)\n",
    "    else:\n",
    "        new_url=base_url+'#resultsPage='+str(i)\n",
    "        driver.get(new_url)\n",
    "    page = driver.page_source\n",
    "    soup = BeautifulSoup(page, 'html.parser')\n",
    "    cars=soup.find_all('div',{'class':'VXAW8U'})\n",
    "    driver.quit()\n",
    "    for j in range(len(cars)):\n",
    "        try:\n",
    "            car_info=cars[j].find('div',{'class':'dAnVQT fci1Ed'})\n",
    "            if car_info:\n",
    "                try :\n",
    "                    location=car_info.find('span',{\"class\":\"S1bO9A\"}).get_text().split(',')[0]\n",
    "                    state=car_info.find('span',{\"class\":\"S1bO9A\"}).get_text().split(',')[1] \n",
    "                except:\n",
    "                    location='Home delivery'\n",
    "                    state='Home delivery'\n",
    "                data=data.append({'brand':car_info.find('h4',{'class':'lnzLAT'}).get_text().split(' ')[1],'model':car_info.find('h4',{'class':'lnzLAT'}).get_text().split(' ')[2],\n",
    "                                          'year':car_info.find('h4',{'class':'lnzLAT'}).get_text().split(' ')[0] ,'price':car_info.find('span',{\"data-cg-ft\":\"srp-listing-blade-price-and-payment\"}).get_text().split(' ')[0] ,\n",
    "                                          'miles': car_info.find('span',{\"class\":\"kZg6ZG\"}).get_text().split(' ')[0],'car_location': location,\n",
    "                                          'car_state':state },\n",
    "                                 ignore_index=True)\n",
    "        except:\n",
    "            continue"
   ]
  }
 ],
 "metadata": {
  "kernelspec": {
   "display_name": "Python 3",
   "language": "python",
   "name": "python3"
  },
  "language_info": {
   "codemirror_mode": {
    "name": "ipython",
    "version": 3
   },
   "file_extension": ".py",
   "mimetype": "text/x-python",
   "name": "python",
   "nbconvert_exporter": "python",
   "pygments_lexer": "ipython3",
   "version": "3.7.4"
  }
 },
 "nbformat": 4,
 "nbformat_minor": 5
}
